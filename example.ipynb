{
 "cells": [
  {
   "cell_type": "code",
   "execution_count": 1,
   "id": "61f54c4a",
   "metadata": {},
   "outputs": [
    {
     "name": "stdout",
     "output_type": "stream",
     "text": [
      "10 7 14 14 17 "
     ]
    },
    {
     "data": {
      "text/plain": [
       "['KHOOR',\n",
       " 'LIPPS',\n",
       " 'MJQQT',\n",
       " 'NKRRU',\n",
       " 'OLSSV',\n",
       " 'PMTTW',\n",
       " 'QNUUX',\n",
       " 'ROVVY',\n",
       " 'SPWWZ',\n",
       " 'TQXX[',\n",
       " 'URYY\\\\',\n",
       " 'VSZZ]',\n",
       " 'WT[[^',\n",
       " 'XU\\\\\\\\_',\n",
       " 'YV]]`',\n",
       " 'ZW^^a',\n",
       " '[X__b',\n",
       " '\\\\Y``c',\n",
       " ']Zaad',\n",
       " '^[bbe',\n",
       " '_\\\\ccf',\n",
       " '`]ddg',\n",
       " 'a^eeh',\n",
       " 'b_ffi',\n",
       " 'c`ggj',\n",
       " 'dahhk']"
      ]
     },
     "execution_count": 1,
     "metadata": {},
     "output_type": "execute_result"
    }
   ],
   "source": [
    "WORD = \"KHOOR\"\n",
    "\n",
    "for ch in WORD:\n",
    "    print(int(ord(ch)) - 65, end=' ')\n",
    "\n",
    "lst = []\n",
    "for cnt in range(26):\n",
    "    word = ''\n",
    "    for ch in WORD:\n",
    "        word += chr((int(ord(ch)) + cnt))\n",
    "    lst.append(word)\n",
    "\n",
    "lst"
   ]
  },
  {
   "cell_type": "code",
   "execution_count": null,
   "id": "2298c745",
   "metadata": {},
   "outputs": [
    {
     "name": "stdout",
     "output_type": "stream",
     "text": [
      "Key  0 : khoor\n",
      "Key  1 : lipps\n",
      "Key  2 : mjqqt\n",
      "Key  3 : nkrru\n",
      "Key  4 : olssv\n",
      "Key  5 : pmttw\n",
      "Key  6 : qnuux\n",
      "Key  7 : rovvy\n",
      "Key  8 : spwwz\n",
      "Key  9 : tqxxa\n",
      "Key  10 : uryyb\n",
      "Key  11 : vszzc\n",
      "Key  12 : wtaad\n",
      "Key  13 : xubbe\n",
      "Key  14 : yvccf\n",
      "Key  15 : zwddg\n",
      "Key  16 : axeeh\n",
      "Key  17 : byffi\n",
      "Key  18 : czggj\n",
      "Key  19 : dahhk\n",
      "Key  20 : ebiil\n",
      "Key  21 : fcjjm\n",
      "Key  22 : gdkkn\n",
      "Key  23 : hello\n",
      "Key  24 : ifmmp\n",
      "Key  25 : jgnnq\n"
     ]
    }
   ],
   "source": [
    "## 교수님 코드\n",
    "\n",
    "# 1-1\n",
    "\n",
    "chiper = \"KHOOR\"\n",
    "\n",
    "for key in range(26):\n",
    "    print(\"Key \", key, \": \", end='')\n",
    "\n",
    "    for char in chiper:\n",
    "        print(chr((ord(char) - ord(\"A\") + key) % 26 + ord('a')), end=\"\")\n",
    "    print()"
   ]
  },
  {
   "cell_type": "code",
   "execution_count": 117,
   "id": "d54b3130",
   "metadata": {},
   "outputs": [
    {
     "name": "stdout",
     "output_type": "stream",
     "text": [
      "Letter frequencies: Counter({'J': 8, 'N': 6, 'X': 6, 'F': 5, 'U': 4, 'Q': 4, 'M': 3, 'W': 3, 'Y': 2, 'R': 2, 'T': 2, 'Z': 2, 'H': 2, 'C': 1, 'K': 1, 'V': 1, 'B': 1, 'D': 1, 'S': 1, 'G': 1, 'P': 1})\n",
      "Case : J\n",
      "Key  5 : this is a simple example. freqwey oualisis can help to break cipherus\n",
      "Key  9 : pdeo eo w oeilha atwilha. bnamsau kqwheoeo ywj dahl pk xnawg yeldanqo\n",
      "Key  18 : guvf vf n fvzcyr rknzcyr. serdjrl bhnyvfvf pna uryc gb oernx pvcurehf\n",
      "Key  1 : xlmw mw e wmqtpi ibeqtpi. jviuaic syepmwmw ger lipt xs fvieo gmtlivyw\n",
      "Key  21 : drsc sc k cswzvo ohkwzvo. pboagoi yekvscsc mkx rovz dy lboku mszrobec\n",
      "\n",
      "Case : N\n",
      "Key  9 : pdeo eo w oeilha atwilha. bnamsau kqwheoeo ywj dahl pk xnawg yeldanqo\n",
      "Key  13 : lzak ak s kaehdw wpsehdw. xjwiowq gmsdakak usf zwdh lg tjwsc uahzwjmk\n",
      "Key  22 : cqrb rb j brvyun ngjvyun. oanzfnh xdjurbrb ljw qnuy cx kanjt lryqnadb\n",
      "Key  5 : this is a simple example. freqwey oualisis can help to break cipherus\n",
      "Key  25 : znoy oy g yosvrk kdgsvrk. lxkwcke uagroyoy igt nkrv zu hxkgq iovnkxay\n",
      "\n",
      "Case : X\n",
      "Key  19 : ftue ue m euybxq qjmybxq. rdqciqk agmxueue omz tqxb fa ndqmw oubtqdge\n",
      "Key  23 : bpqa qa i aquxtm mfiuxtm. nzmyemg wcitqaqa kiv pmtx bw jzmis kqxpmzca\n",
      "Key  6 : sghr hr z rhlokd dwzlokd. eqdpvdx ntzkhrhr bzm gdko sn aqdzj bhogdqtr\n",
      "Key  15 : jxyi yi q iycfbu unqcfbu. vhugmuo ekqbyiyi sqd xubf je rhuqa syfxuhki\n",
      "Key  9 : pdeo eo w oeilha atwilha. bnamsau kqwheoeo ywj dahl pk xnawg yeldanqo\n",
      "\n",
      "Case : F\n",
      "Key  1 : xlmw mw e wmqtpi ibeqtpi. jviuaic syepmwmw ger lipt xs fvieo gmtlivyw\n",
      "Key  5 : this is a simple example. freqwey oualisis can help to break cipherus\n",
      "Key  14 : kyzj zj r jzdgcv vordgcv. wivhnvp flrczjzj tre yvcg kf sivrb tzgyvilj\n",
      "Key  23 : bpqa qa i aquxtm mfiuxtm. nzmyemg wcitqaqa kiv pmtx bw jzmis kqxpmzca\n",
      "Key  17 : hvwg wg o gwadzs sloadzs. tfseksm ciozwgwg qob vszd hc pfsoy qwdvsfig\n",
      "\n",
      "Case : U\n",
      "Key  16 : iwxh xh p hxbeat tmpbeat. ugtfltn djpaxhxh rpc wtae id qgtpz rxewtgjh\n",
      "Key  20 : estd td l dtxawp pilxawp. qcpbhpj zflwtdtd nly spwa ez mcplv ntaspcfd\n",
      "Key  3 : vjku ku c ukorng gzcorng. htgsyga qwcnkuku ecp jgnr vq dtgcm ekrjgtwu\n",
      "Key  12 : mabl bl t lbfiex xqtfiex. ykxjpxr hnteblbl vtg axei mh ukxtd vbiaxknl\n",
      "Key  6 : sghr hr z rhlokd dwzlokd. eqdpvdx ntzkhrhr bzm gdko sn aqdzj bhogdqtr\n",
      "\n"
     ]
    }
   ],
   "source": [
    "# 1-2\n",
    "\n",
    "from collections import Counter\n",
    "\n",
    "chiper = \"YMNX NX F XNRUQJ JCFRUQJ. KWJVBJD TZFQNXNX HFS MJQU YT GWJFP HNUMJWZX\"\n",
    "\n",
    "letters = [c for c in chiper if c.isalpha()]\n",
    "freq = Counter(letters)\n",
    "print(\"Letter frequencies:\", freq)\n",
    "\n",
    "target = ['E', 'A', 'R', 'I', 'O'] # most 5\n",
    "\n",
    "for chi, _ in freq.most_common(5):\n",
    "    print(\"Case :\", chi)\n",
    "    for tar in target:\n",
    "        key = (ord(chi) - ord(tar)) % 26\n",
    "        print(\"Key \", key, \": \", end='')\n",
    "\n",
    "        for char in chiper:\n",
    "            if char.isalpha():\n",
    "                print(chr((ord(char) - ord(\"A\") - key) % 26 + ord('a')), end=\"\")\n",
    "            else:\n",
    "                print(char, end=\"\")\n",
    "        print()\n",
    "    print()"
   ]
  },
  {
   "cell_type": "code",
   "execution_count": 120,
   "id": "718bd96b",
   "metadata": {},
   "outputs": [
    {
     "name": "stdout",
     "output_type": "stream",
     "text": [
      "암호화 : nadwtkcaatat\n",
      "복호화 : attackatdawn\n"
     ]
    }
   ],
   "source": [
    "# 2-1 이중 전위 암호\n",
    "\n",
    "import numpy as np\n",
    "\n",
    "plain = \"attackatdawn\"\n",
    "\n",
    "cipher = np.array(list(plain)).reshape(3, 4)\n",
    "cipher = cipher[[2, 1, 0], :]\n",
    "cipher = cipher[:, [3, 1, 0, 2]]\n",
    "print(\"암호화 :\", end=' ')\n",
    "print(''.join(cipher.flatten().tolist()))\n",
    "\n",
    "decrypt = cipher[:, [2, 1, 3, 0]]\n",
    "decrypt = decrypt[[2, 1, 0], :]\n",
    "print(\"복호화 :\", end=' ')\n",
    "print(\"\".join(decrypt.flatten().tolist()))"
   ]
  },
  {
   "cell_type": "code",
   "execution_count": null,
   "id": "90429801",
   "metadata": {},
   "outputs": [
    {
     "name": "stdout",
     "output_type": "stream",
     "text": [
      "암호문 : srlhssthsr\n",
      "복호문 : heilhitler"
     ]
    }
   ],
   "source": [
    "# 2-2 일회성 암호\n",
    "\n",
    "plain = 'heilhitler'\n",
    "\n",
    "mapping_dict = {\n",
    "    \"e\" : 0b000,\n",
    "    \"h\" : 0b001,\n",
    "    \"i\" : 0b010,\n",
    "    \"k\" : 0b011,\n",
    "    \"l\" : 0b100,\n",
    "    \"r\" : 0b101,\n",
    "    \"s\" : 0b110,\n",
    "    \"t\" : 0b111\n",
    "}\n",
    "mapping_list = [\"e\", \"h\", \"i\", \"k\", \"l\", \"r\", \"s\", \"t\"]\n",
    "\n",
    "key = [0b111, 0b101, 0b110, 0b101, 0b111, 0b100, 0b000, 0b101, 0b110, 0b000]\n",
    "\n",
    "cipher = []\n",
    "for i in range(len(plain)):\n",
    "    cipher.append(mapping_dict[plain[i]] ^ key[i])\n",
    "\n",
    "print(\"암호문 :\", end=' ')\n",
    "for c in cipher:\n",
    "    print(mapping_list[c], end='')\n",
    "print()\n",
    "\n",
    "decrypt = []\n",
    "for i in range(len(cipher)):\n",
    "    decrypt.append(mapping_list[cipher[i] ^ key[i]])\n",
    "\n",
    "print(\"복호문 :\", end=' ')\n",
    "for d in decrypt:\n",
    "    print(d, end='')"
   ]
  },
  {
   "cell_type": "code",
   "execution_count": null,
   "id": "f112f096",
   "metadata": {},
   "outputs": [
    {
     "name": "stdout",
     "output_type": "stream",
     "text": [
      "Key : 9914\n",
      "Cipher : [11148, 15592, 19015, 11035]\n",
      "attackdawnmeetsecret"
     ]
    }
   ],
   "source": [
    "# 2-3 코드북 암호\n",
    "\n",
    "import random\n",
    "\n",
    "codebook = {\n",
    "    \"attack\" : 1234,\n",
    "    \"dawn\" : 5678,\n",
    "    \"meet\" : 9101,\n",
    "    \"secret\" : 1121\n",
    "}\n",
    "plain = \"attackdawnmeetsecret\"\n",
    "key = random.randint(0, 9999)\n",
    "print(\"Key :\", key)\n",
    "\n",
    "cipher = []\n",
    "for i, v in codebook.items():\n",
    "    cipher.append(v + key)\n",
    "\n",
    "print(\"Cipher :\", cipher)\n",
    "\n",
    "decrypt = []\n",
    "dec = ''\n",
    "for c in cipher:\n",
    "    decrypt.append(c - key)\n",
    "\n",
    "for d in decrypt:\n",
    "    for k, v in codebook.items():\n",
    "        if d == v:\n",
    "            print(k, end='')"
   ]
  }
 ],
 "metadata": {
  "kernelspec": {
   "display_name": "base",
   "language": "python",
   "name": "python3"
  },
  "language_info": {
   "codemirror_mode": {
    "name": "ipython",
    "version": 3
   },
   "file_extension": ".py",
   "mimetype": "text/x-python",
   "name": "python",
   "nbconvert_exporter": "python",
   "pygments_lexer": "ipython3",
   "version": "3.13.5"
  }
 },
 "nbformat": 4,
 "nbformat_minor": 5
}
