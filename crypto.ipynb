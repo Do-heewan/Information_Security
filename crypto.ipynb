{
 "cells": [
  {
   "cell_type": "code",
   "execution_count": null,
   "id": "61f54c4a",
   "metadata": {},
   "outputs": [
    {
     "name": "stdout",
     "output_type": "stream",
     "text": [
      "10 7 14 14 17 "
     ]
    },
    {
     "data": {
      "text/plain": [
       "['DAHHK',\n",
       " 'EBIIL',\n",
       " 'FCJJM',\n",
       " 'GDKKN',\n",
       " 'HELLO',\n",
       " 'IFMMP',\n",
       " 'JGNNQ',\n",
       " 'KHOOR',\n",
       " 'LIPPS',\n",
       " 'MJQQT',\n",
       " 'NKRRU',\n",
       " 'OLSSV',\n",
       " 'PMTTW',\n",
       " 'QNUUX',\n",
       " 'ROVVY',\n",
       " 'SPWWZ',\n",
       " 'TQXX[',\n",
       " 'URYY\\\\',\n",
       " 'VSZZ]',\n",
       " 'WT[[^',\n",
       " 'XU\\\\\\\\_',\n",
       " 'YV]]`',\n",
       " 'ZW^^a',\n",
       " '[X__b',\n",
       " '\\\\Y``c',\n",
       " ']Zaad']"
      ]
     },
     "execution_count": 41,
     "metadata": {},
     "output_type": "execute_result"
    }
   ],
   "source": [
    "WORD = \"KHOOR\"\n",
    "\n",
    "for ch in WORD:\n",
    "    print(int(ord(ch)) - 65, end=' ')\n",
    "\n",
    "lst = []\n",
    "for cnt in range(26):\n",
    "    word = ''\n",
    "    for ch in WORD:\n",
    "        word += chr((int(ord(ch)) + cnt))\n",
    "    lst.append(word)\n",
    "\n",
    "lst"
   ]
  },
  {
   "cell_type": "code",
   "execution_count": null,
   "id": "2298c745",
   "metadata": {},
   "outputs": [
    {
     "name": "stdout",
     "output_type": "stream",
     "text": [
      "Key  0 :khoor\n",
      "Key  1 :lipps\n",
      "Key  2 :mjqqt\n",
      "Key  3 :nkrru\n",
      "Key  4 :olssv\n",
      "Key  5 :pmttw\n",
      "Key  6 :qnuux\n",
      "Key  7 :rovvy\n",
      "Key  8 :spwwz\n",
      "Key  9 :tqxxa\n",
      "Key  10 :uryyb\n",
      "Key  11 :vszzc\n",
      "Key  12 :wtaad\n",
      "Key  13 :xubbe\n",
      "Key  14 :yvccf\n",
      "Key  15 :zwddg\n",
      "Key  16 :axeeh\n",
      "Key  17 :byffi\n",
      "Key  18 :czggj\n",
      "Key  19 :dahhk\n",
      "Key  20 :ebiil\n",
      "Key  21 :fcjjm\n",
      "Key  22 :gdkkn\n",
      "Key  23 :hello\n",
      "Key  24 :ifmmp\n",
      "Key  25 :jgnnq\n"
     ]
    }
   ],
   "source": [
    "## 교수님 코드\n",
    "\n",
    "chiper = \"KHOOR\"\n",
    "\n",
    "for key in range(26):\n",
    "    print(\"Key \", key, \": \", end='')\n",
    "\n",
    "    for char in chiper:\n",
    "        print(chr((ord(char) - ord(\"A\") + key) % 26 + ord('a')), end=\"\")\n",
    "    print()"
   ]
  },
  {
   "cell_type": "code",
   "execution_count": 80,
   "id": "d54b3130",
   "metadata": {},
   "outputs": [
    {
     "name": "stdout",
     "output_type": "stream",
     "text": [
      "{'Y': 2, 'M': 3, 'N': 6, 'X': 6, 'F': 5, 'R': 2, 'U': 4, 'Q': 4, 'J': 8, 'C': 1, 'K': 1, 'W': 3, 'V': 1, 'B': 1, 'D': 1, 'T': 2, 'Z': 2, 'H': 2, 'S': 1, 'G': 1, 'P': 1}\n",
      "5\n",
      "Key  5 : drscyscykycswzvoyohkwzvomypboagoiyyekvscscymkxyrovzydyylbokuymszrobec"
     ]
    }
   ],
   "source": [
    "chiper = \"YMNX NX F XNRUQJ JCFRUQJ. KWJVBJD TZFQNXNX HFS MJQU YT GWJFP HNUMJWZX\"\n",
    "n_chiper = chiper.replace(\" \", \"\")\n",
    "n_chiper = n_chiper.replace(\".\", \"\")\n",
    "\n",
    "word = {}\n",
    "for ix in n_chiper:\n",
    "    if ix in word:\n",
    "        word[ix] += 1\n",
    "    else: word[ix] = 1\n",
    "\n",
    "max_value = max(word.values())\n",
    "\n",
    "\n",
    "\n",
    "print(word)\n",
    "sorted_word = dict(sorted(word.items(), key=lambda x : x[1], reverse=True))\n",
    "sorted_word\n",
    "\n",
    "key = ord(\"J\") - ord(\"E\")\n",
    "print(key)\n",
    "\n",
    "# new_chiper = ''\n",
    "# for ix in chiper:\n",
    "#     if (ix == \"M\"):\n",
    "#         new_chiper += \"E\"\n",
    "#         continue\n",
    "#     new_chiper += ix\n",
    "\n",
    "# new_chiper\n",
    "\n",
    "print(\"Key \", key, \": \", end='')\n",
    "\n",
    "for char in chiper:\n",
    "    print(chr((ord(char) - ord(\"A\") + key) % 26 + ord('a')), end=\"\")"
   ]
  },
  {
   "cell_type": "code",
   "execution_count": null,
   "id": "718bd96b",
   "metadata": {},
   "outputs": [],
   "source": []
  }
 ],
 "metadata": {
  "kernelspec": {
   "display_name": "base",
   "language": "python",
   "name": "python3"
  },
  "language_info": {
   "codemirror_mode": {
    "name": "ipython",
    "version": 3
   },
   "file_extension": ".py",
   "mimetype": "text/x-python",
   "name": "python",
   "nbconvert_exporter": "python",
   "pygments_lexer": "ipython3",
   "version": "3.13.5"
  }
 },
 "nbformat": 4,
 "nbformat_minor": 5
}
